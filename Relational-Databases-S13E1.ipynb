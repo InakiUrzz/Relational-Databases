{
 "cells": [
  {
   "cell_type": "markdown",
   "metadata": {},
   "source": [
    "# Relational Database\n",
    "___"
   ]
  },
  {
   "cell_type": "markdown",
   "metadata": {},
   "source": [
    "## Sprint 13 T1\n",
    "### Exercise 1: Create an example relational base using a text document or by hand. \n",
    "Design it to contain the following tables, and establish the relationships you consider necessary between them:\n",
    "\n",
    "- Shopping table (transactions)\n",
    "\n",
    "- Establishments table\n",
    "\n",
    "- Employees table\n",
    "\n",
    "- Customer table\n",
    "\n",
    "- Products table\n",
    "\n",
    "- Type of products table\n",
    "\n",
    "Define the properties of the relationships (1:1, 1:n, n:n), and create some of the variables they might contain, for example:\n",
    "\n",
    "\n",
    "\n",
    "Table of establishments\n",
    "\n",
    "- Establishment ID (unique key)\n",
    "\n",
    "- Name\n",
    "\n",
    "- Location\n",
    "\n",
    "- Area"
   ]
  },
  {
   "cell_type": "markdown",
   "metadata": {},
   "source": [
    "___"
   ]
  },
  {
   "cell_type": "markdown",
   "metadata": {},
   "source": [
    "## Diagrama Entidad Relación\n",
    " Un diagrama entidad-relación, también conocido como modelo entidad relación o ERD, es un tipo de diagrama de flujo que ilustra cómo las \"entidades\", como personas, objetos o conceptos, se relacionan entre sí dentro de un sistema.\n",
    " Estos emplean un conjunto definido de símbolos, tales como rectángulos, diamantes, óvalos y líneas de conexión para representar la interconexión de entidades, relaciones y sus atributos."
   ]
  },
  {
   "cell_type": "markdown",
   "metadata": {},
   "source": [
    "![Diagrama Entidad Relación](DER.png \"DER imagen\")"
   ]
  },
  {
   "cell_type": "markdown",
   "metadata": {},
   "source": [
    "___"
   ]
  },
  {
   "cell_type": "markdown",
   "metadata": {},
   "source": [
    "### Exercise 2:\n",
    "Use an entity-relationship diagram creation program such as http://dia-installer.de to create the diagram."
   ]
  },
  {
   "cell_type": "markdown",
   "metadata": {},
   "source": [
    "![Diagrama Entidad Relación 2](DER2.png \"DER2 imagen\")"
   ]
  }
 ],
 "metadata": {
  "language_info": {
   "name": "python"
  },
  "orig_nbformat": 4
 },
 "nbformat": 4,
 "nbformat_minor": 2
}
